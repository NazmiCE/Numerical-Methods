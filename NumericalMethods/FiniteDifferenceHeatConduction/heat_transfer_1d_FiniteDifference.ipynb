{
  "nbformat": 4,
  "nbformat_minor": 0,
  "metadata": {
    "colab": {
      "provenance": []
    },
    "kernelspec": {
      "name": "python3",
      "display_name": "Python 3"
    },
    "language_info": {
      "name": "python"
    }
  },
  "cells": [
    {
      "cell_type": "code",
      "source": [
        "import numpy as np\n",
        "import matplotlib.pyplot as plt\n",
        "import matplotlib.animation as animation\n",
        "from matplotlib.animation import FuncAnimation\n",
        "import time"
      ],
      "metadata": {
        "id": "vwMnmIrZPgy0"
      },
      "execution_count": 253,
      "outputs": []
    },
    {
      "cell_type": "code",
      "execution_count": 254,
      "metadata": {
        "id": "0rfjhrqUEcSl"
      },
      "outputs": [],
      "source": [
        "# Constants\n",
        "alpha = 10000\n",
        "Ti = 300 # K\n",
        "To = 10 # K\n",
        "# k = 20 # W/mK\n",
        "L = 100 # m \n",
        "node = 100\n",
        "intervall = node + 1\n",
        "delta_x = L/(intervall)\n",
        "max_iter_time = 10000\n",
        "\n",
        "# Calculated Parameters\n",
        "delta_t = (delta_x ** 2)/(4 * alpha + 1)\n",
        "gamma = (alpha * delta_t) / (delta_x ** 2)"
      ]
    },
    {
      "cell_type": "code",
      "source": [
        "temperature_array = np.zeros(node+2)\n",
        "temperature_array[0] = Ti\n",
        "temperature_array[-1] = To\n",
        "temperature_array"
      ],
      "metadata": {
        "colab": {
          "base_uri": "https://localhost:8080/"
        },
        "id": "2WKWxTT-Pkp8",
        "outputId": "a27a800d-6896-44bf-cb43-1638ea903200"
      },
      "execution_count": 255,
      "outputs": [
        {
          "output_type": "execute_result",
          "data": {
            "text/plain": [
              "array([300.,   0.,   0.,   0.,   0.,   0.,   0.,   0.,   0.,   0.,   0.,\n",
              "         0.,   0.,   0.,   0.,   0.,   0.,   0.,   0.,   0.,   0.,   0.,\n",
              "         0.,   0.,   0.,   0.,   0.,   0.,   0.,   0.,   0.,   0.,   0.,\n",
              "         0.,   0.,   0.,   0.,   0.,   0.,   0.,   0.,   0.,   0.,   0.,\n",
              "         0.,   0.,   0.,   0.,   0.,   0.,   0.,   0.,   0.,   0.,   0.,\n",
              "         0.,   0.,   0.,   0.,   0.,   0.,   0.,   0.,   0.,   0.,   0.,\n",
              "         0.,   0.,   0.,   0.,   0.,   0.,   0.,   0.,   0.,   0.,   0.,\n",
              "         0.,   0.,   0.,   0.,   0.,   0.,   0.,   0.,   0.,   0.,   0.,\n",
              "         0.,   0.,   0.,   0.,   0.,   0.,   0.,   0.,   0.,   0.,   0.,\n",
              "         0.,   0.,  10.])"
            ]
          },
          "metadata": {},
          "execution_count": 255
        }
      ]
    },
    {
      "cell_type": "code",
      "source": [
        "temperature_matrix = np.zeros((max_iter_time, node + 2))\n",
        "temperature_matrix[:,:] = 10\n",
        "temperature_matrix[:,0] = Ti\n",
        "temperature_matrix[:,-1] = To\n",
        "temperature_matrix"
      ],
      "metadata": {
        "colab": {
          "base_uri": "https://localhost:8080/"
        },
        "id": "pL2zk2TSQUyj",
        "outputId": "feef0add-3300-45f1-8874-cd313dd89de7"
      },
      "execution_count": 256,
      "outputs": [
        {
          "output_type": "execute_result",
          "data": {
            "text/plain": [
              "array([[300.,  10.,  10., ...,  10.,  10.,  10.],\n",
              "       [300.,  10.,  10., ...,  10.,  10.,  10.],\n",
              "       [300.,  10.,  10., ...,  10.,  10.,  10.],\n",
              "       ...,\n",
              "       [300.,  10.,  10., ...,  10.,  10.,  10.],\n",
              "       [300.,  10.,  10., ...,  10.,  10.,  10.],\n",
              "       [300.,  10.,  10., ...,  10.,  10.,  10.]])"
            ]
          },
          "metadata": {},
          "execution_count": 256
        }
      ]
    },
    {
      "cell_type": "code",
      "source": [
        "temperature_matrix.shape"
      ],
      "metadata": {
        "colab": {
          "base_uri": "https://localhost:8080/"
        },
        "id": "TiSLWZADVwYa",
        "outputId": "03a99458-ce0d-4790-cd3d-ef37d7f400fc"
      },
      "execution_count": 257,
      "outputs": [
        {
          "output_type": "execute_result",
          "data": {
            "text/plain": [
              "(10000, 102)"
            ]
          },
          "metadata": {},
          "execution_count": 257
        }
      ]
    },
    {
      "cell_type": "code",
      "source": [
        "for t in range(temperature_matrix.shape[0] - 1):\n",
        "  for i in range(1, temperature_matrix.shape[1] - 1):\n",
        "    temperature_matrix[t+1, i] = gamma * (temperature_matrix[t, i + 1] + temperature_matrix[t, i - 1] - 2 * temperature_matrix[t, i]) + temperature_matrix[t, i]\n"
      ],
      "metadata": {
        "id": "fnwm4BDoU4WW"
      },
      "execution_count": 258,
      "outputs": []
    },
    {
      "cell_type": "code",
      "source": [
        "temperature_matrix[-1]"
      ],
      "metadata": {
        "colab": {
          "base_uri": "https://localhost:8080/"
        },
        "id": "52ba6bSNZ7io",
        "outputId": "2557faeb-c5fe-482b-9a6c-c1f7225814ce"
      },
      "execution_count": 259,
      "outputs": [
        {
          "output_type": "execute_result",
          "data": {
            "text/plain": [
              "array([300.        , 296.61711096, 293.23471791, 289.85331635,\n",
              "       286.47340082, 283.0954644 , 279.71999824, 276.34749111,\n",
              "       272.97842884, 269.61329395, 266.2525651 , 262.89671667,\n",
              "       259.54621826, 256.20153428, 252.86312344, 249.53143836,\n",
              "       246.2069251 , 242.89002271, 239.58116284, 236.28076929,\n",
              "       232.98925764, 229.70703478, 226.43449858, 223.17203745,\n",
              "       219.92003002, 216.67884471, 213.44883943, 210.2303612 ,\n",
              "       207.02374582, 203.82931755, 200.64738881, 197.47825984,\n",
              "       194.32221846, 191.17953974, 188.05048579, 184.93530547,\n",
              "       181.83423415, 178.74749351, 175.67529133, 172.61782124,\n",
              "       169.5752626 , 166.5477803 , 163.53552459, 160.53863097,\n",
              "       157.55722003, 154.59139736, 151.64125345, 148.70686359,\n",
              "       145.7882878 , 142.88557082, 139.99874202, 137.12781537,\n",
              "       134.2727895 , 131.43364761, 128.61035759, 125.80287196,\n",
              "       123.01112799, 120.23504772, 117.47453809, 114.72949097,\n",
              "       111.9997833 , 109.28527725, 106.58582028, 103.90124534,\n",
              "       101.23137104,  98.5760018 ,  95.93492806,  93.30792649,\n",
              "        90.69476017,  88.09517889,  85.50891933,  82.93570534,\n",
              "        80.37524823,  77.82724701,  75.29138872,  72.7673487 ,\n",
              "        70.25479094,  67.75336836,  65.26272321,  62.78248734,\n",
              "        60.31228261,  57.85172126,  55.40040622,  52.95793158,\n",
              "        50.5238829 ,  48.09783768,  45.67936571,  43.26802953,\n",
              "        40.8633848 ,  38.46498077,  36.07236072,  33.68506234,\n",
              "        31.30261825,  28.92455638,  26.55040048,  24.17967053,\n",
              "        21.81188325,  19.44655251,  17.08318984,  14.72130488,\n",
              "        12.36040584,  10.        ])"
            ]
          },
          "metadata": {},
          "execution_count": 259
        }
      ]
    },
    {
      "cell_type": "code",
      "source": [
        "plt.pcolormesh([temperature_matrix[-4],temperature_matrix[-4]], cmap=plt.cm.jet, vmin=10, vmax=300)\n",
        "plt.colorbar()"
      ],
      "metadata": {
        "colab": {
          "base_uri": "https://localhost:8080/",
          "height": 286
        },
        "id": "y8z7PrCNaJQx",
        "outputId": "056ab75f-45ac-44bb-9388-655564c25174"
      },
      "execution_count": 260,
      "outputs": [
        {
          "output_type": "execute_result",
          "data": {
            "text/plain": [
              "<matplotlib.colorbar.Colorbar at 0x7f7940295c10>"
            ]
          },
          "metadata": {},
          "execution_count": 260
        },
        {
          "output_type": "display_data",
          "data": {
            "text/plain": [
              "<Figure size 432x288 with 2 Axes>"
            ],
            "image/png": "[encoded data removed]"
          },
          "metadata": {
            "needs_background": "light"
          }
        }
      ]
    },
    {
      "cell_type": "code",
      "source": [
        "def plotheatmap(u_k, k):\n",
        "    # Clear the current plot figure\n",
        "    plt.clf()\n",
        "\n",
        "    plt.title(f\"Temperature at t = {k*delta_t:.3f} unit time\")\n",
        "    plt.xlabel(\"x\")\n",
        "    plt.ylabel(\"y\")\n",
        "\n",
        "    # This is to plot u_k (u at time-step k)\n",
        "    plt.pcolormesh([u_k,u_k], cmap=plt.cm.jet, vmin=0, vmax=300)\n",
        "    plt.colorbar()\n",
        "\n",
        "    return plt\n",
        "\n",
        "def animate(k):\n",
        "    plotheatmap(temperature_matrix[k], k)\n",
        "\n",
        "\n",
        "anim = animation.FuncAnimation(plt.figure(), animate, interval=1, frames=max_iter_time, repeat=False)\n",
        "anim.save(\"fsdfadf.mp4\")\n",
        "print(\"Done!\")"
      ],
      "metadata": {
        "colab": {
          "base_uri": "https://localhost:8080/",
          "height": 312
        },
        "id": "eqOhFGTJdteY",
        "outputId": "185e249e-dbca-4734-cd7e-66f6f330d8c3"
      },
      "execution_count": 261,
      "outputs": [
        {
          "output_type": "stream",
          "name": "stdout",
          "text": [
            "Done!\n"
          ]
        },
        {
          "output_type": "display_data",
          "data": {
            "text/plain": [
              "<Figure size 432x288 with 2 Axes>"
            ],
            "image/png": "[encoded data removed]"
          },
          "metadata": {
            "needs_background": "light"
          }
        }
      ]
    }
  ]
}