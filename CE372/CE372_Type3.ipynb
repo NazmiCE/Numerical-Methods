{
  "nbformat": 4,
  "nbformat_minor": 0,
  "metadata": {
    "colab": {
      "provenance": [],
      "collapsed_sections": []
    },
    "kernelspec": {
      "name": "python3",
      "display_name": "Python 3"
    },
    "language_info": {
      "name": "python"
    }
  },
  "cells": [
    {
      "cell_type": "markdown",
      "source": [
        "CE372 Finding Diameter of Pipe Problem when f and D are unknown at the same time and other parameters are given (e-> rougness of Pipe, L -> Length of Pipe, hf -> head loss due to friction, Q -> Discharge rate, v = kinematic viscosity and g -> gravitational acceleration)\n"
      ],
      "metadata": {
        "id": "quvla6OUd2yN"
      }
    },
    {
      "cell_type": "code",
      "source": [
        "def type3_problem(fold, e, L, hf, Q, v, g):\n",
        "  fnew = 0.1\n",
        "  while True:\n",
        "    D = (fold*8*L*Q*Q/3.14/3.14/g/hf)**(1/5)\n",
        "    V = 4*Q/3.14/D/D\n",
        "    Re = V*D/v\n",
        "    e_d = e/D\n",
        "    fnew = 1.325/(math.log(e_d/3.7 + 5.74/Re**0.9))**2\n",
        "    if abs(fnew - fold)/fnew * 100 < 1:\n",
        "      break\n",
        "    fold = fnew\n",
        "  return fnew \n"
      ],
      "metadata": {
        "id": "MlE8CyIZc9Zm"
      },
      "execution_count": 19,
      "outputs": []
    },
    {
      "cell_type": "code",
      "execution_count": 24,
      "metadata": {
        "colab": {
          "base_uri": "https://localhost:8080/"
        },
        "id": "TE_rv2LjZ-GA",
        "outputId": "f22834d3-384d-4dac-e3b4-8eec0c17c8ae"
      },
      "outputs": [
        {
          "output_type": "stream",
          "name": "stdout",
          "text": [
            "0.023080012187786096\n"
          ]
        }
      ],
      "source": [
        "import math\n",
        "fold = 0.02\n",
        "e = 5*10**(-5) # m\n",
        "L = 100 # m\n",
        "hf = 10\n",
        "Q = 0.003 # m^3/s\n",
        "v = 10**(-6)\n",
        "g = 9.81\n",
        "\n",
        "fnew1 = type3_problem(fold, e, L, hf, Q, v, g)\n",
        "print(fnew1)"
      ]
    },
    {
      "cell_type": "code",
      "source": [
        "import math\n",
        "fold = 0.05\n",
        "e = 5*10**(-5) # m\n",
        "L = 100 # m\n",
        "hf = 10\n",
        "Q = 0.003 # m^3/s\n",
        "v = 10**(-6)\n",
        "g = 9.81\n",
        "\n",
        "fnew2 = type3_problem(fold, e, L, hf, Q, v, g)\n",
        "print(fnew2)"
      ],
      "metadata": {
        "colab": {
          "base_uri": "https://localhost:8080/"
        },
        "id": "w_lyO2nOc1rm",
        "outputId": "b9247b46-82c4-4bfe-fa72-a73de685c16b"
      },
      "execution_count": 25,
      "outputs": [
        {
          "output_type": "stream",
          "name": "stdout",
          "text": [
            "0.02308237651743751\n"
          ]
        }
      ]
    },
    {
      "cell_type": "markdown",
      "source": [
        "A better or more appropriate solution could be using recursive algorithms due to nature of problem, so try it here. "
      ],
      "metadata": {
        "id": "OLtxWD2Oeanv"
      }
    }
  ]
}