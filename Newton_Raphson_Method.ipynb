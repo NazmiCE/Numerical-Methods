{
  "nbformat": 4,
  "nbformat_minor": 0,
  "metadata": {
    "colab": {
      "provenance": [],
      "collapsed_sections": []
    },
    "kernelspec": {
      "name": "python3",
      "display_name": "Python 3"
    },
    "language_info": {
      "name": "python"
    }
  },
  "cells": [
    {
      "cell_type": "code",
      "execution_count": 36,
      "metadata": {
        "colab": {
          "base_uri": "https://localhost:8080/"
        },
        "id": "cxOP3IhUbtTK",
        "outputId": "bae27d27-05ba-48b7-e456-c05336f1ef2f"
      },
      "outputs": [
        {
          "output_type": "execute_result",
          "data": {
            "text/plain": [
              "0.5671432904097811"
            ]
          },
          "metadata": {},
          "execution_count": 36
        }
      ],
      "source": [
        "# Open Methods - Newton Raphson Method\n",
        "# Find a root for equation f(x) = e^(-x) - x\n",
        "\n",
        "import sympy as sp\n",
        "import math\n",
        "x = sp.Symbol(\"x\")\n",
        "e = math.e\n",
        "f = e**(-x) - x\n",
        "\n",
        "\n",
        "def newton_raphson_method(func, x_old = 0, es = 0.001):\n",
        "  \"\"\"\n",
        "  func -> The function to find root\n",
        "  x0 -> Initial first guess, 0 by default\n",
        "  es -> Termination criteria, 0.01 by default\n",
        "  \"\"\"\n",
        "  func_prime = sp.diff(func)\n",
        "  ea = 10\n",
        "  i = 0\n",
        "  while ea > es and i < 100:\n",
        "    x_new = x_old - float(func.subs({x : x_old}) / func_prime.subs({x : x_old}))\n",
        "    if x_new != 0:\n",
        "      ea = abs((x_new - x_old)/ x_new)*100\n",
        "    i += 1\n",
        "    x_old = x_new\n",
        "  return x_new\n",
        "\n",
        "print(newton_raphson_method(f))"
      ]
    },
    {
      "cell_type": "code",
      "source": [],
      "metadata": {
        "id": "HekqFrVxg1eB"
      },
      "execution_count": null,
      "outputs": []
    }
  ]
}