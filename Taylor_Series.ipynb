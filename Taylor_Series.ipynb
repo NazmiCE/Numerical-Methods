{
  "nbformat": 4,
  "nbformat_minor": 0,
  "metadata": {
    "colab": {
      "provenance": [],
      "collapsed_sections": []
    },
    "kernelspec": {
      "name": "python3",
      "display_name": "Python 3"
    },
    "language_info": {
      "name": "python"
    }
  },
  "cells": [
    {
      "cell_type": "code",
      "execution_count": null,
      "metadata": {
        "id": "o-_Ty4q9ptQO"
      },
      "outputs": [],
      "source": [
        "import sympy as sp\n",
        "import math"
      ]
    },
    {
      "cell_type": "code",
      "source": [
        "def factor(n):\n",
        "  if n == 0 or n == 1:\n",
        "    return 1\n",
        "  else:\n",
        "    return n * factor(n-1)\n",
        "factor(5)"
      ],
      "metadata": {
        "colab": {
          "base_uri": "https://localhost:8080/"
        },
        "id": "29-3VWZBqNdl",
        "outputId": "52464611-bfb3-4dc7-e1f9-9dd7eae38ed6"
      },
      "execution_count": null,
      "outputs": [
        {
          "output_type": "execute_result",
          "data": {
            "text/plain": [
              "120"
            ]
          },
          "metadata": {},
          "execution_count": 3
        }
      ]
    },
    {
      "cell_type": "code",
      "source": [
        "x = sp.Symbol('x')\n",
        "a = sp.Symbol('a')\n",
        "h = x-a\n",
        "f = sp.sin(a)"
      ],
      "metadata": {
        "id": "ANbwMkZavFCC"
      },
      "execution_count": null,
      "outputs": []
    },
    {
      "cell_type": "code",
      "source": [
        "# Real sin(pi/15)\n",
        "float(f.subs(a, sp.pi/15))"
      ],
      "metadata": {
        "colab": {
          "base_uri": "https://localhost:8080/"
        },
        "id": "MdsnWsmGvUvz",
        "outputId": "31a0a4b3-35c6-4364-8c5e-42720a95ad5c"
      },
      "execution_count": null,
      "outputs": [
        {
          "output_type": "execute_result",
          "data": {
            "text/plain": [
              "0.20791169081775934"
            ]
          },
          "metadata": {},
          "execution_count": 5
        }
      ]
    },
    {
      "cell_type": "code",
      "source": [
        "# Use Taylor Series to estimate sin(pi/15) by using sin(0) which means centered with 0\n",
        "# Alternating series, I can easily use error estimation\n",
        "sum = 0\n",
        "i = 0\n",
        "f = sp.sin(a)\n",
        "error = sp.diff(f) * h ** (i + 1) / factor(i + 1)\n",
        "i = 0\n",
        "while abs(error.subs({a : 0, x : sp.pi/15})) > 0.000000001 or abs(error.subs({a : 0, x : sp.pi/15})) == 0:\n",
        "  result = (f*h**i)/factor(i)\n",
        "  result = result.subs({a : 0, x : sp.pi/15})\n",
        "  sum += result\n",
        "  error = sp.diff(f) * h ** (i + 1) / factor(i + 1)\n",
        "  f = sp.diff(f)\n",
        "  i += 1\n",
        "print(float(sum))"
      ],
      "metadata": {
        "colab": {
          "base_uri": "https://localhost:8080/"
        },
        "id": "s6YtfgGgvX39",
        "outputId": "2d716ea1-5298-44cd-f944-59eaafba3244"
      },
      "execution_count": null,
      "outputs": [
        {
          "output_type": "stream",
          "name": "stdout",
          "text": [
            "0.20791169081562338\n"
          ]
        }
      ]
    },
    {
      "cell_type": "code",
      "source": [
        "def sin(target):\n",
        "  sum = 0\n",
        "  i = 0\n",
        "  f = sp.sin(a)\n",
        "  error = sp.diff(f) * h ** (i + 1) / factor(i + 1)\n",
        "  i = 0\n",
        "  while abs(error.subs({a : 0, x : target})) > 0.0000000000001 or abs(error.subs({a : 0, x : target})) == 0:\n",
        "    result = (f*h**i)/factor(i)\n",
        "    result = result.subs({a : 0, x : target})\n",
        "    sum += result\n",
        "    error = sp.diff(f) * h ** (i + 1) / factor(i + 1)\n",
        "    f = sp.diff(f)\n",
        "    i += 1\n",
        "  print(float(sum))\n",
        "sin(sp.pi/30)"
      ],
      "metadata": {
        "id": "HEl0wpivwMN1",
        "colab": {
          "base_uri": "https://localhost:8080/"
        },
        "outputId": "d884d02b-2778-4d04-b852-e78ce75b1cd4"
      },
      "execution_count": null,
      "outputs": [
        {
          "output_type": "stream",
          "name": "stdout",
          "text": [
            "0.1045284632676493\n"
          ]
        },
        {
          "output_type": "execute_result",
          "data": {
            "text/plain": [
              "0.9945218953682733"
            ]
          },
          "metadata": {},
          "execution_count": 23
        }
      ]
    },
    {
      "cell_type": "code",
      "source": [],
      "metadata": {
        "id": "vmIyx2066l8n"
      },
      "execution_count": null,
      "outputs": []
    }
  ]
}